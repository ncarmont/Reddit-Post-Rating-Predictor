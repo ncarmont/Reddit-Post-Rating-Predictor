{
 "cells": [
  {
   "cell_type": "code",
   "execution_count": 2,
   "metadata": {},
   "outputs": [],
   "source": [
    "import csv\n",
    "data= list()\n",
    "with open('redditSubmissions.csv', encoding=\"utf8\") as csvfile:\n",
    "    reader = csv.DictReader(csvfile)\n",
    "    for row in reader:\n",
    "        data.append(row)"
   ]
  },
  {
   "cell_type": "code",
   "execution_count": 9,
   "metadata": {},
   "outputs": [
    {
     "name": "stdout",
     "output_type": "stream",
     "text": [
      "Simple average baseline (predict average) \n",
      "MSE for Training 0.026378822631092043\n",
      "MSE for Test 0.02800910859348945\n",
      "0.63073323889752\n"
     ]
    }
   ],
   "source": [
    "import numpy as np\n",
    "counter = 0\n",
    "ratingTot =0\n",
    "\n",
    "def returnRating(upvotes, totVotes):\n",
    "    if totVotes is None: return 0\n",
    "    if(int(totVotes)==0):\n",
    "        return 0\n",
    "    return int(upvotes)/int(totVotes)\n",
    "\n",
    "X = [(d['username'],d['#image_id']) for d in data]\n",
    "y = [returnRating(d['number_of_upvotes'],d['total_votes']) for d in data]\n",
    "\n",
    "halfLenData = int(len(data)/2)\n",
    "# print(halfLenData)\n",
    "\n",
    "trnData = data [:halfLenData]\n",
    "X_train = X[:halfLenData]\n",
    "y_train = y[:halfLenData]\n",
    "\n",
    "X_test = X[halfLenData:]\n",
    "y_test = y[halfLenData:]\n",
    "\n",
    "for d in trnData:\n",
    "    ratingTot += returnRating(d['number_of_upvotes'],d['total_votes'])\n",
    "    counter+=1\n",
    "ratingAvg = ratingTot/counter\n",
    "\n",
    "predictionsTrn = [ratingAvg for (user,img) in X_train]\n",
    "predictionsTst = [ratingAvg for (user,img) in X_test]\n",
    "\n",
    "MSELinRegTrn = np.square(np.subtract(y_train,predictionsTrn)).mean() \n",
    "MSELinRegTst = np.square(np.subtract(y_test,predictionsTst)).mean() \n",
    "print(\"Simple average baseline (predict average) \")\n",
    "print(\"MSE for Training \" +str(MSELinRegTrn))\n",
    "print(\"MSE for Test \"+str(MSELinRegTst))\n",
    "\n",
    "print(predictionsTrn[4])\n"
   ]
  }
 ],
 "metadata": {
  "kernelspec": {
   "display_name": "Python 3",
   "language": "python",
   "name": "python3"
  },
  "language_info": {
   "codemirror_mode": {
    "name": "ipython",
    "version": 3
   },
   "file_extension": ".py",
   "mimetype": "text/x-python",
   "name": "python",
   "nbconvert_exporter": "python",
   "pygments_lexer": "ipython3",
   "version": "3.7.0"
  }
 },
 "nbformat": 4,
 "nbformat_minor": 2
}

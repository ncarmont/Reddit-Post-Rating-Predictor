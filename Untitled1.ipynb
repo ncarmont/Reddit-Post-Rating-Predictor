{
 "cells": [
  {
   "cell_type": "code",
   "execution_count": 1,
   "metadata": {},
   "outputs": [],
   "source": [
    "import csv\n",
    "data= list()\n",
    "with open('redditSubmissions.csv', encoding=\"utf8\") as csvfile:\n",
    "    reader = csv.DictReader(csvfile)\n",
    "    for row in reader:\n",
    "        data.append(row)"
   ]
  },
  {
   "cell_type": "code",
   "execution_count": 8,
   "metadata": {},
   "outputs": [
    {
     "name": "stdout",
     "output_type": "stream",
     "text": [
      "Lin reg for max total score: \n",
      "MSE for Training 0.02631689029597055\n",
      "MSE for Test 0.02799343910900562\n"
     ]
    }
   ],
   "source": [
    "import numpy as np\n",
    "import scipy.optimize\n",
    "import random\n",
    "from collections import defaultdict\n",
    "import numpy\n",
    "import urllib\n",
    "import scipy.optimize\n",
    "import random\n",
    "from sklearn import svm\n",
    "\n",
    "import time\n",
    "import re\n",
    "from collections import defaultdict\n",
    "ratingPerHour = defaultdict(int)\n",
    "timeCounter = defaultdict(int)\n",
    "\n",
    "def returnRating(upvotes, totVotes):\n",
    "    if totVotes is None: return 0\n",
    "    if(int(totVotes)==0):\n",
    "        return 0\n",
    "    return int(upvotes)/int(totVotes)\n",
    "\n",
    "def convertToHour(dateT):\n",
    "    ISOtime = re.sub('......$', '', dateT)\n",
    "    while(len(ISOtime)>19):\n",
    "        ISOtime = re.sub('.$', '', ISOtime)\n",
    "    timeStruct= time.strptime(ISOtime, \"%Y-%m-%dT%H:%M:%S\")\n",
    "    return timeStruct[3]\n",
    "\n",
    "for d in data: \n",
    "    ratingMetric = returnRating(d['number_of_upvotes'],d['total_votes'])\n",
    "    dateTime = d['rawtime']\n",
    "    if(dateTime):\n",
    "        hour = convertToHour(dateTime)\n",
    "        ratingPerHour[hour]+= int(ratingMetric)\n",
    "        timeCounter[hour]+=1\n",
    "        \n",
    "avgRating = list()\n",
    "for (hour,tot) in ratingPerHour.items():\n",
    "    avgScore.append((hour,tot/timeCounter[hour]))\n",
    "    \n",
    "avgRating.sort(key=lambda tup: tup[1])\n",
    "avgRating.reverse()\n",
    "avgRatingDict = dict(avgRating)\n",
    "             \n",
    "def avgHourRating(ISOtime):\n",
    "    feat =[1]\n",
    "    if ISOtime is None: \n",
    "        feat.append(0)\n",
    "    else:\n",
    "        hour =convertToHour(ISOtime)\n",
    "        totRatings =dict(ratingPerHour)\n",
    "        totRating = int(totRatings[hour])\n",
    "        feat.append(totRating)\n",
    "    return feat\n",
    "\n",
    "X = [avgHourRating(d['rawtime']) for d in data]\n",
    "y = [returnRating(d['number_of_upvotes'],d['total_votes']) for d in data]\n",
    "\n",
    "halfLenData = int(len(data)/2)\n",
    "X_train = X[:halfLenData]\n",
    "y_train = y[:halfLenData]\n",
    "\n",
    "X_test = X[halfLenData:]\n",
    "y_test = y[halfLenData:]\n",
    "\n",
    "theta1,residuals,rank,s = np.linalg.lstsq(X_train, y_train,rcond= -1)\n",
    "predictionsTrn = [sum(x*theta1) for x in X_train]\n",
    "predictionsTst = [sum(x*theta1) for x in X_test]\n",
    "\n",
    "MSELinRegTrn = np.square(np.subtract(y_train,predictionsTrn)).mean() \n",
    "MSELinRegTst = np.square(np.subtract(y_test,predictionsTst)).mean() \n",
    "print(\"Lin reg for max total score: \")\n",
    "print(\"MSE for Training \" +str(MSELinRegTrn))\n",
    "print(\"MSE for Test \"+str(MSELinRegTst))"
   ]
  },
  {
   "cell_type": "code",
   "execution_count": 9,
   "metadata": {},
   "outputs": [
    {
     "name": "stdout",
     "output_type": "stream",
     "text": [
      "0.6201270459228065\n",
      "0.6340980452839361\n",
      "0.6390067747891978\n",
      "0.623525397118757\n",
      "0.6405171530985091\n",
      "0.6201270459228065\n",
      "0.6201270459228065\n",
      "0.6393843693665255\n",
      "0.6405171530985091\n",
      "0.642782720562476\n",
      "0.63862918021187\n",
      "0.6390067747891978\n",
      "0.6374963964798864\n",
      "0.6201270459228065\n",
      "0.6220150188094457\n",
      "0.6340980452839361\n",
      "0.6201270459228065\n",
      "0.6374963964798864\n",
      "0.623525397118757\n",
      "0.6186166676134953\n",
      "0.6201270459228065\n",
      "0.6220150188094457\n"
     ]
    }
   ],
   "source": [
    "def printFirst10(arr):\n",
    "    counter = 0\n",
    "    for a in arr:\n",
    "        print(a)\n",
    "        counter+=1\n",
    "        if(counter>10):\n",
    "            break\n",
    "printFirst10(predictionsTrn)\n",
    "printFirst10(predictionsTst)"
   ]
  },
  {
   "cell_type": "code",
   "execution_count": null,
   "metadata": {},
   "outputs": [],
   "source": [
    "\n",
    "\n",
    "\n",
    "MSELinRegTrn = np.square(np.subtract(y_train,predictionsTrn)).mean() \n",
    "MSELinRegTst = np.square(np.subtract(y_test,predictionsTst)).mean() "
   ]
  }
 ],
 "metadata": {
  "kernelspec": {
   "display_name": "Python 3",
   "language": "python",
   "name": "python3"
  },
  "language_info": {
   "codemirror_mode": {
    "name": "ipython",
    "version": 3
   },
   "file_extension": ".py",
   "mimetype": "text/x-python",
   "name": "python",
   "nbconvert_exporter": "python",
   "pygments_lexer": "ipython3",
   "version": "3.7.0"
  }
 },
 "nbformat": 4,
 "nbformat_minor": 2
}
